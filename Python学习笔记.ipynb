{
 "cells": [
  {
   "cell_type": "markdown",
   "id": "b15af1fe",
   "metadata": {},
   "source": [
    "# 华为实习笔记"
   ]
  },
  {
   "cell_type": "code",
   "execution_count": 5,
   "id": "475de16f",
   "metadata": {},
   "outputs": [],
   "source": [
    "import numpy as np"
   ]
  },
  {
   "cell_type": "markdown",
   "id": "54be7e50",
   "metadata": {},
   "source": [
    "## list 切片"
   ]
  },
  {
   "cell_type": "markdown",
   "id": "86d5e9ef",
   "metadata": {},
   "source": [
    "### Example 1"
   ]
  },
  {
   "cell_type": "code",
   "execution_count": 8,
   "id": "095119de",
   "metadata": {},
   "outputs": [
    {
     "name": "stdout",
     "output_type": "stream",
     "text": [
      "[[ 6  7]\n",
      " [10 11]]\n",
      "[[6, 7], [10, 11]]\n",
      "t element:[6 7]\n",
      "t2 element:[6, 7]\n"
     ]
    }
   ],
   "source": [
    "list_l = [[1,2,3,4],[5,6,7,8],[9,10,11,12],[13,14,15,16]]\n",
    "list_ndarry = np.array(list_l)\n",
    "# 第一个1：3是取最外层括号的1：3， 第二个1：3是取第二层括号的1：3; list_t是一个array\n",
    "list_t = list_ndarry[1:3, 1:3]\n",
    "# list_t2是一个元素为list的list\n",
    "list_t2 = [ list_l[i][1:3] for i in range(1,3) ]\n",
    "\n",
    "print(list_t)\n",
    "print(list_t2)\n",
    "print(\"t element:{}\".format(list_t[0]))\n",
    "print(\"t2 element:{}\".format(list_t2[0]))"
   ]
  },
  {
   "cell_type": "markdown",
   "id": "66ac9292",
   "metadata": {},
   "source": [
    "### Example 2"
   ]
  },
  {
   "cell_type": "code",
   "execution_count": 13,
   "id": "aebb354a",
   "metadata": {},
   "outputs": [
    {
     "name": "stdout",
     "output_type": "stream",
     "text": [
      "[[0, 1, 2, 3, 4, 5, 6, 7, 8, 9], [10, 11, 12, 13, 14, 15, 16, 17, 18, 19], [20, 21, 22, 23, 24, 25, 26, 27, 28, 29], [30, 31, 32, 33, 34, 35, 36, 37, 38, 39], [40, 41, 42, 43, 44, 45, 46, 47, 48, 49]]\n"
     ]
    }
   ],
   "source": [
    "test_arr = np.arange(0,50)\n",
    "test_arr = test_arr.reshape(5,10)\n",
    "test_list = test_arr.tolist()\n",
    "print(test_list)"
   ]
  },
  {
   "cell_type": "code",
   "execution_count": 16,
   "id": "bea718a6",
   "metadata": {},
   "outputs": [
    {
     "name": "stdout",
     "output_type": "stream",
     "text": [
      "[[1, 2, 3, 4, 5, 6, 7, 8, 9], [11, 12, 13, 14, 15, 16, 17, 18, 19], [21, 22, 23, 24, 25, 26, 27, 28, 29], [31, 32, 33, 34, 35, 36, 37, 38, 39], [41, 42, 43, 44, 45, 46, 47, 48, 49]]\n",
      "[[ 1  2  3  4  5  6  7  8  9]\n",
      " [11 12 13 14 15 16 17 18 19]\n",
      " [21 22 23 24 25 26 27 28 29]\n",
      " [31 32 33 34 35 36 37 38 39]\n",
      " [41 42 43 44 45 46 47 48 49]]\n"
     ]
    }
   ],
   "source": [
    "# 取除第一列外的其他所有元素\n",
    "# res = test_list[:][1:]   # 错误，test_list[:]=test_list\n",
    "# res = test_list[:,1:]    # 错误，不能对list对象多为切片，list indices must be integers or slices, not tuple\n",
    "res=[]\n",
    "for elem in test_list:\n",
    "    res.append(elem[1:])\n",
    "print(res)  \n",
    "res = test_arr[:,1:]    # 正确，对array可以进行多维切片\n",
    "print(res)"
   ]
  },
  {
   "cell_type": "markdown",
   "id": "08f21b3d",
   "metadata": {},
   "source": [
    "## Class对象"
   ]
  },
  {
   "cell_type": "code",
   "execution_count": 18,
   "id": "dac10f18",
   "metadata": {},
   "outputs": [
    {
     "name": "stdout",
     "output_type": "stream",
     "text": [
      "This dog is March, whose age is 3\n",
      "调用类方法：类名Dog\n",
      "调用类方法：类名Dog\n",
      "调用静态方法\n",
      "调用静态方法\n"
     ]
    }
   ],
   "source": [
    "class Dog():\n",
    "    def __init__(self, name, age):   # __init__为构造方法\n",
    "        self.name = name   # self类似this，定义成员变量或成员方法\n",
    "        self.age = age\n",
    "    \n",
    "    # 成员方法第一个参数必须是'self'，只能通过实例调用\n",
    "    def introduce(self):\n",
    "        print(\"This dog is \" + self.name + \", whose age is \" + str(self.age))\n",
    "        \n",
    "    # 类方法以cls作为第一个参数，cls表示类本身，定义时使用@classmethod装饰器\n",
    "    @classmethod\n",
    "    def cls_info(cls):\n",
    "        # 通过cls可以访问类的相关属性\n",
    "        print(\"调用类方法：类名{}\".format(cls.__name__))\n",
    "        \n",
    "    # 静态方法装饰器，没有参数限制，不需实例参数，不需类参数\n",
    "    @staticmethod\n",
    "    def static_info():\n",
    "        print(\"调用静态方法\")\n",
    "        \n",
    "myDog = Dog('March',3)\n",
    "myDog.introduce()\n",
    "\n",
    "# 类方法和静态方法都可以用类或者实例调用\n",
    "Dog.cls_info()\n",
    "myDog.cls_info()\n",
    "Dog.static_info()\n",
    "myDog.static_info()"
   ]
  },
  {
   "cell_type": "markdown",
   "id": "72ef84b8",
   "metadata": {},
   "source": [
    "### 继承"
   ]
  },
  {
   "cell_type": "code",
   "execution_count": 21,
   "id": "e54e377f",
   "metadata": {},
   "outputs": [
    {
     "name": "stdout",
     "output_type": "stream",
     "text": [
      "This teddy is April, whose age is 2\n",
      "Teddy is f your house. Really? True\n",
      "调用类方法：类名Teddy\n",
      "调用静态方法\n"
     ]
    }
   ],
   "source": [
    "class Teddy(Dog):\n",
    "    def __init__(self, name, age):\n",
    "#         super.__init__(name, age)   # super()函数用于调用父类（）超类的方法\n",
    "        Dog.__init__(self, name, age)   # 直接调用父类的构造方法\n",
    "        self.hasParent = True\n",
    "    \n",
    "    def introduce(self):   # 重写父类方法\n",
    "        print(\"This teddy is \" + self.name + \", whose age is \" + str(self.age))\n",
    "        \n",
    "    def attention(self):\n",
    "        print(\"Teddy is f your house. Really? {}\".format(self.hasParent))\n",
    "        \n",
    "myDog = Teddy('April', 2)\n",
    "myDog.introduce()\n",
    "myDog.attention()\n",
    "\n",
    "# 类方法和静态方法都可以继承\n",
    "myDog.cls_info()\n",
    "myDog.static_info()"
   ]
  },
  {
   "cell_type": "code",
   "execution_count": null,
   "id": "da9a8178",
   "metadata": {},
   "outputs": [],
   "source": []
  }
 ],
 "metadata": {
  "kernelspec": {
   "display_name": "Python 3",
   "language": "python",
   "name": "python3"
  },
  "language_info": {
   "codemirror_mode": {
    "name": "ipython",
    "version": 3
   },
   "file_extension": ".py",
   "mimetype": "text/x-python",
   "name": "python",
   "nbconvert_exporter": "python",
   "pygments_lexer": "ipython3",
   "version": "3.8.8"
  }
 },
 "nbformat": 4,
 "nbformat_minor": 5
}
